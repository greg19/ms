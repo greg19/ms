{
 "cells": [
  {
   "cell_type": "code",
   "execution_count": 1,
   "metadata": {},
   "outputs": [],
   "source": [
    "%load_ext autoreload\n",
    "%autoreload 2"
   ]
  },
  {
   "cell_type": "code",
   "execution_count": 2,
   "metadata": {},
   "outputs": [],
   "source": [
    "from utils import *\n",
    "from distance import *\n",
    "import pandas as pd\n",
    "import numpy as np"
   ]
  },
  {
   "cell_type": "code",
   "execution_count": 3,
   "metadata": {},
   "outputs": [],
   "source": [
    "meta, projects, votes_df = load_pb('data/poland_warszawa_2023_srodmiescie.pb')"
   ]
  },
  {
   "cell_type": "code",
   "execution_count": 4,
   "metadata": {},
   "outputs": [],
   "source": [
    "def ohe(ids: list[int]) -> list[bool]:\n",
    "    return binary_encoding(ids, meta['num_projects'])"
   ]
  },
  {
   "cell_type": "code",
   "execution_count": 5,
   "metadata": {},
   "outputs": [],
   "source": [
    "votes = np.array(list(votes_df['vote'].map(ohe))).astype('int')"
   ]
  },
  {
   "cell_type": "code",
   "execution_count": 6,
   "metadata": {},
   "outputs": [],
   "source": [
    "d_jaccard = jaccard(votes, votes)\n",
    "d_cosine = cosine(votes, votes)\n",
    "d_chord = chord(votes, votes)\n",
    "d_simrank = simrank(votes)"
   ]
  },
  {
   "cell_type": "code",
   "execution_count": 7,
   "metadata": {},
   "outputs": [],
   "source": [
    "df = pd.DataFrame({\n",
    "    \"Jaccard\": d_jaccard.reshape(-1),\n",
    "    \"Cosine\": d_cosine.reshape(-1),\n",
    "    \"Chord\": d_chord.reshape(-1),\n",
    "    \"Simrank\": d_simrank.reshape(-1),\n",
    "})"
   ]
  },
  {
   "cell_type": "code",
   "execution_count": 8,
   "metadata": {},
   "outputs": [
    {
     "data": {
      "text/html": [
       "<div>\n",
       "<style scoped>\n",
       "    .dataframe tbody tr th:only-of-type {\n",
       "        vertical-align: middle;\n",
       "    }\n",
       "\n",
       "    .dataframe tbody tr th {\n",
       "        vertical-align: top;\n",
       "    }\n",
       "\n",
       "    .dataframe thead th {\n",
       "        text-align: right;\n",
       "    }\n",
       "</style>\n",
       "<table border=\"1\" class=\"dataframe\">\n",
       "  <thead>\n",
       "    <tr style=\"text-align: right;\">\n",
       "      <th></th>\n",
       "      <th>Jaccard</th>\n",
       "      <th>Cosine</th>\n",
       "      <th>Chord</th>\n",
       "      <th>Simrank</th>\n",
       "    </tr>\n",
       "  </thead>\n",
       "  <tbody>\n",
       "    <tr>\n",
       "      <th>Jaccard</th>\n",
       "      <td>1.000000</td>\n",
       "      <td>0.957265</td>\n",
       "      <td>0.984056</td>\n",
       "      <td>0.636030</td>\n",
       "    </tr>\n",
       "    <tr>\n",
       "      <th>Cosine</th>\n",
       "      <td>0.957265</td>\n",
       "      <td>1.000000</td>\n",
       "      <td>0.971437</td>\n",
       "      <td>0.565078</td>\n",
       "    </tr>\n",
       "    <tr>\n",
       "      <th>Chord</th>\n",
       "      <td>0.984056</td>\n",
       "      <td>0.971437</td>\n",
       "      <td>1.000000</td>\n",
       "      <td>0.700818</td>\n",
       "    </tr>\n",
       "    <tr>\n",
       "      <th>Simrank</th>\n",
       "      <td>0.636030</td>\n",
       "      <td>0.565078</td>\n",
       "      <td>0.700818</td>\n",
       "      <td>1.000000</td>\n",
       "    </tr>\n",
       "  </tbody>\n",
       "</table>\n",
       "</div>"
      ],
      "text/plain": [
       "          Jaccard    Cosine     Chord   Simrank\n",
       "Jaccard  1.000000  0.957265  0.984056  0.636030\n",
       "Cosine   0.957265  1.000000  0.971437  0.565078\n",
       "Chord    0.984056  0.971437  1.000000  0.700818\n",
       "Simrank  0.636030  0.565078  0.700818  1.000000"
      ]
     },
     "execution_count": 8,
     "metadata": {},
     "output_type": "execute_result"
    }
   ],
   "source": [
    "df.corr()"
   ]
  },
  {
   "cell_type": "code",
   "execution_count": null,
   "metadata": {},
   "outputs": [],
   "source": []
  }
 ],
 "metadata": {
  "kernelspec": {
   "display_name": "Python 3",
   "language": "python",
   "name": "python3"
  },
  "language_info": {
   "codemirror_mode": {
    "name": "ipython",
    "version": 3
   },
   "file_extension": ".py",
   "mimetype": "text/x-python",
   "name": "python",
   "nbconvert_exporter": "python",
   "pygments_lexer": "ipython3",
   "version": "3.11.8"
  }
 },
 "nbformat": 4,
 "nbformat_minor": 2
}
