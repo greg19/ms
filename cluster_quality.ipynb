{
 "cells": [
  {
   "cell_type": "code",
   "execution_count": 3,
   "metadata": {},
   "outputs": [],
   "source": [
    "%load_ext autoreload\n",
    "%autoreload 2"
   ]
  },
  {
   "cell_type": "code",
   "execution_count": 16,
   "metadata": {},
   "outputs": [],
   "source": [
    "from utils import *\n",
    "from ksets import *\n",
    "from distance import jaccard\n",
    "import numpy as np\n",
    "import pandas as pd\n",
    "import plotly.express as px\n",
    "from sklearn.preprocessing import normalize\n",
    "from sklearn.cluster import KMeans\n",
    "from sklearn.metrics import silhouette_score, silhouette_samples\n",
    "from sklearn.manifold import TSNE"
   ]
  },
  {
   "cell_type": "code",
   "execution_count": 5,
   "metadata": {},
   "outputs": [],
   "source": [
    "meta, projects, votes = load_pb_ohe('data/poland_warszawa_2023_srodmiescie.pb')"
   ]
  },
  {
   "cell_type": "code",
   "execution_count": 8,
   "metadata": {},
   "outputs": [],
   "source": [
    "distances = jaccard(votes, votes)"
   ]
  },
  {
   "cell_type": "code",
   "execution_count": 113,
   "metadata": {},
   "outputs": [
    {
     "name": "stdout",
     "output_type": "stream",
     "text": [
      " 2 : 0.143 | 0.150\n",
      " 3 : 0.188 | 0.161\n",
      " 4 : 0.144 | 0.163\n",
      " 5 : 0.155 | 0.152\n",
      " 6 : 0.150 | 0.135\n",
      " 7 : 0.144 | 0.154\n",
      " 8 : 0.153 | 0.159\n",
      " 9 : 0.161 | 0.164\n",
      "10 : 0.163 | 0.155\n",
      "11 : 0.166 | 0.162\n",
      "12 : 0.165 | 0.158\n",
      "13 : 0.164 | 0.175\n",
      "14 : 0.166 | 0.176\n",
      "15 : 0.165 | 0.177\n",
      "16 : 0.165 | 0.172\n",
      "17 : 0.167 | 0.173\n",
      "18 : 0.168 | 0.182\n",
      "19 : 0.167 | 0.181\n",
      "20 : 0.172 | 0.180\n",
      "21 : 0.172 | 0.176\n",
      "22 : 0.173 | 0.177\n",
      "23 : 0.171 | 0.173\n",
      "24 : 0.174 | 0.172\n",
      "25 : 0.173 | 0.181\n",
      "26 : 0.174 | 0.180\n",
      "27 : 0.171 | 0.174\n",
      "28 : 0.170 | 0.177\n",
      "29 : 0.177 | 0.176\n"
     ]
    }
   ],
   "source": [
    "for k in range(2, 30):\n",
    "    c_kmeans = KMeans(n_clusters=k, n_init=10).fit(normalize(votes, norm='l2')).labels_\n",
    "    c_ksets = ksets(k, votes, 1)\n",
    "    s_kmeans = silhouette_score(distances, c_kmeans, metric='precomputed')\n",
    "    s_ksets = silhouette_score(distances, c_ksets, metric='precomputed')\n",
    "    print(f\"{k:2} : {s_kmeans:.3f} | {s_ksets:.3f}\")"
   ]
  },
  {
   "cell_type": "code",
   "execution_count": null,
   "metadata": {},
   "outputs": [],
   "source": []
  }
 ],
 "metadata": {
  "kernelspec": {
   "display_name": "Python 3",
   "language": "python",
   "name": "python3"
  },
  "language_info": {
   "codemirror_mode": {
    "name": "ipython",
    "version": 3
   },
   "file_extension": ".py",
   "mimetype": "text/x-python",
   "name": "python",
   "nbconvert_exporter": "python",
   "pygments_lexer": "ipython3",
   "version": "3.11.8"
  }
 },
 "nbformat": 4,
 "nbformat_minor": 2
}
